{
  "nbformat": 4,
  "nbformat_minor": 0,
  "metadata": {
    "colab": {
      "provenance": []
    },
    "kernelspec": {
      "name": "python3",
      "display_name": "Python 3"
    },
    "language_info": {
      "name": "python"
    }
  },
  "cells": [
    {
      "cell_type": "markdown",
      "source": [
        "#Files, Exception Handling And Memory Management"
      ],
      "metadata": {
        "id": "ct4aVoyOapUH"
      }
    },
    {
      "cell_type": "markdown",
      "source": [
        "1. What is the difference between interpreted and compiled languages?\n",
        "- Compiled languages are translated into machine code by a compiler before execution, resulting in faster performance.\n",
        "\n",
        "-Interpreted languages are executed line-by-line by an interpreter at runtime, which can be slower but offers greater flexibility.\n",
        "\n",
        "2. What is exception handling in Python?\n",
        "- Exception handling is a mechanism to deal with runtime errors gracefully, preventing a program from crashing.\n",
        "\n",
        "- It involves using try and except blocks to isolate potentially problematic code and define a response to any errors that occur.\n",
        "\n",
        "3. What is the purpose of the finally block in exception handling\n",
        "- The finally block is used in exception handling to specify code that will always be executed.\n",
        "\n",
        "- It is crucial for cleanup operations, like closing files or releasing resources, to ensure they happen even if an error occurs.          \n",
        "\n",
        "4. What is logging in Python?\n",
        "- Logging is the process of recording events in a program, such as errors, warnings, or status updates.\n",
        "\n",
        "- It is a powerful tool for debugging, monitoring, and understanding a program's behavior in production.\n",
        "\n",
        "5. What is the significance of the __del__ method in Python?\n",
        "- The __del__ method is a special method called when an object is about to be destroyed.\n",
        "\n",
        "- It's intended for final cleanup, but its use is generally discouraged because its timing is not guaranteed and can lead to unpredictable behavior.\n",
        "\n",
        "6. What is the difference between import and from ... import in Python?\n",
        "- import module imports the entire module, requiring you to use the module name as a prefix (e.g., math.sqrt).\n",
        "\n",
        "- from module import member imports a specific function or class, allowing you to use it directly without a prefix (e.g., sqrt).\n",
        "\n",
        "7. How can you handle multiple exceptions in Python\n",
        "- You can handle multiple exceptions by listing them in a tuple in a single except block, or by using multiple except blocks.\n",
        "\n",
        "- This allows you to provide different responses for different types of errors.\n",
        "\n",
        "8. What is the purpose of the with statement when handling files in Python?\n",
        "- The with statement simplifies resource management, particularly for files, by ensuring resources are properly acquired and released.\n",
        "\n",
        "- It automatically handles the closing of a file, even if errors occur, eliminating the need for a manual close() call.\n",
        "\n",
        "9. What is the difference between multithreading and multiprocessing?\n",
        "- Multithreading runs multiple threads within a single process, sharing memory and is best for I/O-bound tasks.\n",
        "\n",
        "- Multiprocessing uses multiple separate processes, each with its own memory space, making it ideal for CPU-bound tasks.\n",
        "\n",
        "10. What are the advantages of using logging in a program?\n",
        "- Logging provides a detailed record of program execution, which is essential for debugging and monitoring.\n",
        "\n",
        "- It offers a flexible way to track program events and report errors, improving the overall reliability of an application.\n",
        "\n",
        "11. What is memory management in Python?\n",
        "- Python's memory management is largely automatic, using a combination of reference counting and a garbage collector.\n",
        "\n",
        "- This system allocates and deallocates memory for objects, freeing up the programmer from manual memory management.\n",
        "\n",
        "12. What are the basic steps involved in exception handling in Python?\n",
        "- The try block encloses code that might raise an exception.\n",
        "\n",
        "- The except block catches and handles the exception if it occurs, preventing the program from crashing.\n",
        "\n",
        "13. Why is memory management important in Python?\n",
        "- Efficient memory management prevents memory leaks and ensures a program doesn't consume an excessive amount of resources.\n",
        "\n",
        "- It is crucial for the stability and performance of long-running applications.\n",
        "\n",
        "14. What is the role of try and except in exception handling?\n",
        "- The try block attempts to execute code that might fail.\n",
        "\n",
        "- The except block acts as a safety net, catching and handling any errors that are raised within the try block.\n",
        "\n",
        "15. How does Python's garbage collection system work?\n",
        "- Python uses reference counting to deallocate objects when their reference count drops to zero.\n",
        "\n",
        "- It also uses a generational garbage collector to handle more complex cases like circular references.\n",
        "\n",
        "16. What is the purpose of the else block in exception handling?\n",
        "- The else block in exception handling is executed only if the try block completes without any exceptions.\n",
        "\n",
        "- It is used to contain code that should only run if the attempted operation was successful.\n",
        "\n",
        "17. What are the common logging levels in Python?\n",
        "- Logging levels (e.g., DEBUG, INFO, ERROR) provide a way to categorize the severity of messages.\n",
        "\n",
        "- This allows you to filter and configure what types of messages are recorded, depending on the environment or your needs.\n",
        "\n",
        "18. What is the difference between os.fork() and multiprocessing in Python?\n",
        "- os.fork() is a low-level, Unix-specific function for creating a new process.\n",
        "\n",
        "- The multiprocessing module is a high-level, cross-platform and more user-friendly way to manage processes in Python.\n",
        "\n",
        "19. What is the importance of closing a file in Python?\n",
        "- Closing a file releases system resources and ensures all buffered data is written to the disk.\n",
        "\n",
        "- The with statement is the recommended way to handle this, as it guarantees the file is closed automatically.\n",
        "\n",
        "20. What is the difference between file.read() and file.readline() in Python?\n",
        "- file.read() reads the entire content of a file into a single string.\n",
        "\n",
        "- file.readline() reads one line at a time, making it more memory-efficient for large files.\n",
        "\n",
        "21. What is the logging module in Python used for?\n",
        "- The logging module is a built-in Python library for creating and managing logs.\n",
        "\n",
        "- It provides a flexible framework for recording events, debugging, and monitoring applications.\n",
        "\n",
        "22. What is the os module in Python used for in file handling ?\n",
        "- The os module provides functions for interacting with the operating system, including file and directory manipulation.\n",
        "\n",
        "- It is used for tasks like renaming files, creating directories, and working with file paths in a platform-independent way.\n",
        "\n",
        "23. What are the challenges associated with memory management in Python ?\n",
        "- The os module provides functions for interacting with the operating system, including file and directory manipulation.\n",
        "\n",
        "- It is used for tasks like renaming files, creating directories, and working with file paths in a platform-independent way.\n",
        "\n",
        "24. How do you raise an exception manually in Python?\n",
        "- The raise statement is used to manually trigger an exception in your code.\n",
        "\n",
        "- This is useful for enforcing business logic and ensuring your program's state is valid.\n",
        "\n",
        "25. Why is it important to use multithreading in certain applications?\n",
        "- Multithreading is crucial for I/O-bound applications that spend a lot of time waiting for external operations.\n",
        "\n",
        "- It allows a program to remain responsive by performing long-running tasks in the background without blocking the main execution."
      ],
      "metadata": {
        "id": "oWYvRb7YbMeJ"
      }
    },
    {
      "cell_type": "markdown",
      "source": [
        "# PRACTICAL QUESTION"
      ],
      "metadata": {
        "id": "P5u5r5wYlQaE"
      }
    },
    {
      "cell_type": "markdown",
      "source": [
        "1. How can you open a file for writing in Python and write a string to it?"
      ],
      "metadata": {
        "id": "VOhDoidqlUx4"
      }
    },
    {
      "cell_type": "code",
      "source": [
        "with open('my_file.txt', 'w') as file:\n",
        "    file.write(\"Hello, this is a test string.\\n\")\n",
        "    file.write(\"This is the second line.\")"
      ],
      "metadata": {
        "id": "ko33UFtvlZ4t"
      },
      "execution_count": 5,
      "outputs": []
    },
    {
      "cell_type": "markdown",
      "source": [
        "2. Write a Python program to read the contents of a file and print each line?"
      ],
      "metadata": {
        "id": "aFxT-FZDla1j"
      }
    },
    {
      "cell_type": "code",
      "source": [
        "with open('my_file.txt', 'r') as file:\n",
        "    for line in file:\n",
        "        print(line, end='')"
      ],
      "metadata": {
        "colab": {
          "base_uri": "https://localhost:8080/"
        },
        "id": "BU0bjHE9sUOF",
        "outputId": "943d5f8f-46ca-4594-8a77-90a1513b820d"
      },
      "execution_count": 6,
      "outputs": [
        {
          "output_type": "stream",
          "name": "stdout",
          "text": [
            "Hello, this is a test string.\n",
            "This is the second line."
          ]
        }
      ]
    },
    {
      "cell_type": "markdown",
      "source": [
        "3. How would you handle a case where the file doesn't exist while trying to open it for reading?"
      ],
      "metadata": {
        "id": "Q0XF79dklrEg"
      }
    },
    {
      "cell_type": "code",
      "source": [
        "try:\n",
        "    with open('non_existent_file.txt', 'r') as file:\n",
        "        content = file.read()\n",
        "        print(content)\n",
        "except FileNotFoundError:\n",
        "    print(\"Error: The file was not found.\")"
      ],
      "metadata": {
        "colab": {
          "base_uri": "https://localhost:8080/"
        },
        "id": "E3cYm_0xsVE0",
        "outputId": "6b38db2d-6d97-471a-f430-3588ad61c928"
      },
      "execution_count": 7,
      "outputs": [
        {
          "output_type": "stream",
          "name": "stdout",
          "text": [
            "Error: The file was not found.\n"
          ]
        }
      ]
    },
    {
      "cell_type": "markdown",
      "source": [
        "4. Write a Python script that reads from one file and writes its content to another file?"
      ],
      "metadata": {
        "id": "6bxs6ovYlwHd"
      }
    },
    {
      "cell_type": "code",
      "source": [
        "try:\n",
        "    with open('source.txt', 'r') as source_file:\n",
        "        content = source_file.read()\n",
        "    with open('destination.txt', 'w') as dest_file:\n",
        "        dest_file.write(content)\n",
        "    print(\"File content copied successfully.\")\n",
        "except FileNotFoundError:\n",
        "    print(\"Error: Source file not found.\")"
      ],
      "metadata": {
        "colab": {
          "base_uri": "https://localhost:8080/"
        },
        "id": "xIkSTEe8sV6f",
        "outputId": "812bbcf5-f46e-4b4c-d6a7-97120f3e1834"
      },
      "execution_count": 8,
      "outputs": [
        {
          "output_type": "stream",
          "name": "stdout",
          "text": [
            "Error: Source file not found.\n"
          ]
        }
      ]
    },
    {
      "cell_type": "markdown",
      "source": [
        "5. How would you catch and handle division by zero error in Python?"
      ],
      "metadata": {
        "id": "F1_5JCuhl3T7"
      }
    },
    {
      "cell_type": "code",
      "source": [
        "try:\n",
        "    result = 10 / 0\n",
        "except ZeroDivisionError:\n",
        "    print(\"Error: Cannot divide by zero.\")"
      ],
      "metadata": {
        "colab": {
          "base_uri": "https://localhost:8080/"
        },
        "id": "jrMnXdfIsdjK",
        "outputId": "09ad2790-879a-4085-8ca8-5924222222a7"
      },
      "execution_count": 9,
      "outputs": [
        {
          "output_type": "stream",
          "name": "stdout",
          "text": [
            "Error: Cannot divide by zero.\n"
          ]
        }
      ]
    },
    {
      "cell_type": "markdown",
      "source": [
        "6. Write a Python program that logs an error message to a log file when a division by zero exception occurs?"
      ],
      "metadata": {
        "id": "lZCLxqrymFJU"
      }
    },
    {
      "cell_type": "code",
      "source": [
        "import logging\n",
        "\n",
        "logging.basicConfig(filename='app.log', level=logging.ERROR, format='%(asctime)s - %(levelname)s - %(message)s')\n",
        "\n",
        "try:\n",
        "    result = 10 / 0\n",
        "except ZeroDivisionError:\n",
        "    logging.error(\"A ZeroDivisionError occurred during a calculation.\")\n",
        "    print(\"An error was logged.\")"
      ],
      "metadata": {
        "colab": {
          "base_uri": "https://localhost:8080/"
        },
        "id": "zjHEa0e8seqZ",
        "outputId": "9c87ac4c-65ed-4c15-ee0d-3df9b5edf8b5"
      },
      "execution_count": 10,
      "outputs": [
        {
          "output_type": "stream",
          "name": "stderr",
          "text": [
            "ERROR:root:A ZeroDivisionError occurred during a calculation.\n"
          ]
        },
        {
          "output_type": "stream",
          "name": "stdout",
          "text": [
            "An error was logged.\n"
          ]
        }
      ]
    },
    {
      "cell_type": "markdown",
      "source": [
        "7. How do you log information at different levels (INFO, ERROR, WARNING) in Python using the logging module?"
      ],
      "metadata": {
        "id": "J45EnwVnmKnx"
      }
    },
    {
      "cell_type": "code",
      "source": [
        "import logging\n",
        "\n",
        "logging.basicConfig(level=logging.INFO, format='%(asctime)s - %(levelname)s - %(message)s')\n",
        "\n",
        "logging.info(\"This is an informational message.\")\n",
        "logging.warning(\"This is a warning message.\")\n",
        "logging.error(\"This is an error message.\")"
      ],
      "metadata": {
        "colab": {
          "base_uri": "https://localhost:8080/"
        },
        "id": "hiwgOwwasf8R",
        "outputId": "d554b426-5f7a-43fc-e82b-408a8e0a6939"
      },
      "execution_count": 3,
      "outputs": [
        {
          "output_type": "stream",
          "name": "stderr",
          "text": [
            "WARNING:root:This is a warning message.\n",
            "ERROR:root:This is an error message.\n"
          ]
        }
      ]
    },
    {
      "cell_type": "markdown",
      "source": [
        "8. Write a program to handle a file opening error using exception handling?\n"
      ],
      "metadata": {
        "id": "VjZdZJugmKbE"
      }
    },
    {
      "cell_type": "code",
      "source": [
        "try:\n",
        "    with open('non_existent.txt', 'r') as file:\n",
        "        content = file.read()\n",
        "except IOError as e:\n",
        "    print(f\"An I/O error occurred: {e}\")"
      ],
      "metadata": {
        "colab": {
          "base_uri": "https://localhost:8080/"
        },
        "id": "6gpM0lXKsgh6",
        "outputId": "7e29e45a-4f19-4835-dece-f305ab73c52b"
      },
      "execution_count": 11,
      "outputs": [
        {
          "output_type": "stream",
          "name": "stdout",
          "text": [
            "An I/O error occurred: [Errno 2] No such file or directory: 'non_existent.txt'\n"
          ]
        }
      ]
    },
    {
      "cell_type": "markdown",
      "source": [
        "9. How can you read a file line by line and store its content in a list in Python?\n"
      ],
      "metadata": {
        "id": "96w8izkWmKTc"
      }
    },
    {
      "cell_type": "code",
      "source": [
        "lines_list = []\n",
        "try:\n",
        "    with open('my_file.txt', 'r') as file:\n",
        "        lines_list = [line.strip() for line in file]\n",
        "except FileNotFoundError:\n",
        "    print(\"File not found.\")\n",
        "\n",
        "print(lines_list)"
      ],
      "metadata": {
        "colab": {
          "base_uri": "https://localhost:8080/"
        },
        "id": "iLdep-SdshKd",
        "outputId": "f2c745b5-4d3b-48c7-d054-5bc7cac818d0"
      },
      "execution_count": 12,
      "outputs": [
        {
          "output_type": "stream",
          "name": "stdout",
          "text": [
            "['Hello, this is a test string.', 'This is the second line.']\n"
          ]
        }
      ]
    },
    {
      "cell_type": "markdown",
      "source": [
        "10. How can you append data to an existing file in Python?\n"
      ],
      "metadata": {
        "id": "mA1Soy8vmdff"
      }
    },
    {
      "cell_type": "code",
      "source": [
        "with open('my_file.txt', 'a') as file:\n",
        "    file.write(\"\\nThis is a new line appended to the file.\")"
      ],
      "metadata": {
        "id": "M4QGt6PeshyR"
      },
      "execution_count": 14,
      "outputs": []
    },
    {
      "cell_type": "markdown",
      "source": [
        "11. Write a Python program that uses a try-except block to handle an error when attempting to access a\n"
      ],
      "metadata": {
        "id": "wz87_vQymdw4"
      }
    },
    {
      "cell_type": "code",
      "source": [
        "my_dict = {'name': 'rajit bhatt', 'age': 23}\n",
        "\n",
        "try:\n",
        "    print(my_dict['city'])\n",
        "except KeyError:\n",
        "    print(\"Error: The key 'city' does not exist in the dictionary.\")"
      ],
      "metadata": {
        "colab": {
          "base_uri": "https://localhost:8080/"
        },
        "id": "a6vHPIcHsjO0",
        "outputId": "0e1db386-62be-4baf-8b17-6bee2a0eac9e"
      },
      "execution_count": 15,
      "outputs": [
        {
          "output_type": "stream",
          "name": "stdout",
          "text": [
            "Error: The key 'city' does not exist in the dictionary.\n"
          ]
        }
      ]
    },
    {
      "cell_type": "markdown",
      "source": [
        "12. Write a program that demonstrates using multiple except blocks to handle different types of exceptions?\n"
      ],
      "metadata": {
        "id": "soTGEfELmexD"
      }
    },
    {
      "cell_type": "code",
      "source": [
        "my_list = [1, 2, 3]\n",
        "\n",
        "try:\n",
        "    value = my_list[4]\n",
        "    result = 10 / 0\n",
        "except IndexError:\n",
        "    print(\"Error: Index is out of range.\")\n",
        "except ZeroDivisionError:\n",
        "    print(\"Error: Cannot divide by zero.\")\n",
        "except Exception as e:\n",
        "    print(f\"An unexpected error occurred: {e}\")"
      ],
      "metadata": {
        "colab": {
          "base_uri": "https://localhost:8080/"
        },
        "id": "SHgX9e4Dsjqn",
        "outputId": "892e46da-98d5-4ccc-e094-a3dfba853d73"
      },
      "execution_count": 16,
      "outputs": [
        {
          "output_type": "stream",
          "name": "stdout",
          "text": [
            "Error: Index is out of range.\n"
          ]
        }
      ]
    },
    {
      "cell_type": "markdown",
      "source": [
        "13. How would you check if a file exists before attempting to read it in Python?\n",
        "- You can use the os.path.exists() function to check for a file's existence."
      ],
      "metadata": {
        "id": "R5k5oBKRmfPP"
      }
    },
    {
      "cell_type": "code",
      "source": [
        "import os\n",
        "\n",
        "if os.path.exists('my_file.txt'):\n",
        "    with open('my_file.txt', 'r') as file:\n",
        "        content = file.read()\n",
        "        print(content)\n",
        "else:\n",
        "    print(\"The file does not exist.\")"
      ],
      "metadata": {
        "colab": {
          "base_uri": "https://localhost:8080/"
        },
        "id": "JQjSNIF0skJB",
        "outputId": "9a400922-561e-41e1-a6cf-47b6fcaa0e87"
      },
      "execution_count": 17,
      "outputs": [
        {
          "output_type": "stream",
          "name": "stdout",
          "text": [
            "Hello, this is a test string.\n",
            "This is the second line.\n",
            "This is a new line appended to the file.\n",
            "This is a new line appended to the file.\n"
          ]
        }
      ]
    },
    {
      "cell_type": "markdown",
      "source": [
        "14. Write a program that uses the logging module to log both informational and error messages?\n"
      ],
      "metadata": {
        "id": "7yef9ew1mf5l"
      }
    },
    {
      "cell_type": "code",
      "source": [
        "import logging\n",
        "\n",
        "logging.basicConfig(filename='app.log', level=logging.INFO, format='%(asctime)s - %(levelname)s - %(message)s')\n",
        "\n",
        "logging.info(\"Application started.\")\n",
        "\n",
        "try:\n",
        "    result = 10 / 0\n",
        "except ZeroDivisionError:\n",
        "    logging.error(\"A ZeroDivisionError occurred during a calculation.\")\n",
        "    print(\"An error was logged to the file.\")\n",
        "\n",
        "logging.info(\"Application finished.\")"
      ],
      "metadata": {
        "colab": {
          "base_uri": "https://localhost:8080/"
        },
        "id": "FXBu0e3iskj5",
        "outputId": "35de268e-61ec-44b6-d5d9-01b3dc1cb430"
      },
      "execution_count": 18,
      "outputs": [
        {
          "output_type": "stream",
          "name": "stderr",
          "text": [
            "ERROR:root:A ZeroDivisionError occurred during a calculation.\n"
          ]
        },
        {
          "output_type": "stream",
          "name": "stdout",
          "text": [
            "An error was logged to the file.\n"
          ]
        }
      ]
    },
    {
      "cell_type": "markdown",
      "source": [
        "15. Write a Python program that prints the content of a file and handles the case when the file is empty?\n"
      ],
      "metadata": {
        "id": "CnNqmd_Im5Ih"
      }
    },
    {
      "cell_type": "code",
      "source": [
        "try:\n",
        "    with open('empty_file.txt', 'r') as file:\n",
        "        content = file.read()\n",
        "        if not content:\n",
        "            print(\"The file is empty.\")\n",
        "        else:\n",
        "            print(\"File content:\")\n",
        "            print(content)\n",
        "except FileNotFoundError:\n",
        "    print(\"File not found.\")"
      ],
      "metadata": {
        "colab": {
          "base_uri": "https://localhost:8080/"
        },
        "id": "w4uQrxmVslqa",
        "outputId": "38ffe893-8dbb-44f7-ad37-3ccb361a88d0"
      },
      "execution_count": 19,
      "outputs": [
        {
          "output_type": "stream",
          "name": "stdout",
          "text": [
            "File not found.\n"
          ]
        }
      ]
    },
    {
      "cell_type": "markdown",
      "source": [
        "16. Demonstrate how to use memory profiling to check the memory usage of a small program?\n",
        "- First, you need to install it: pip install memory_profiler.\n",
        "\n",
        "- Then, you can decorate the function you want to profile with @profile and run your script from the command line using python -m memory_profiler your_script.py. The output will show a line-by-line breakdown of the memory usage, helping you identify which parts of your code are consuming the most memory."
      ],
      "metadata": {
        "id": "EzbCmVLAm5aV"
      }
    },
    {
      "cell_type": "code",
      "source": [
        "\n",
        "from memory_profiler import profile\n",
        "\n",
        "@profile\n",
        "def my_function():\n",
        "    # Create a large list to demonstrate memory usage\n",
        "    a = [i for i in range(1000000)]\n",
        "    b = [i for i in range(2000000)]\n",
        "    return a, b\n",
        "\n",
        "if __name__ == '__main__':\n",
        "    my_function()"
      ],
      "metadata": {
        "colab": {
          "base_uri": "https://localhost:8080/",
          "height": 400
        },
        "id": "zFGBsB2hsmTX",
        "outputId": "b7bcfc37-7999-4b87-f569-1ae5d1325932"
      },
      "execution_count": 22,
      "outputs": [
        {
          "output_type": "error",
          "ename": "ModuleNotFoundError",
          "evalue": "No module named 'memory_profiler'",
          "traceback": [
            "\u001b[0;31m---------------------------------------------------------------------------\u001b[0m",
            "\u001b[0;31mModuleNotFoundError\u001b[0m                       Traceback (most recent call last)",
            "\u001b[0;32m/tmp/ipython-input-1167456671.py\u001b[0m in \u001b[0;36m<cell line: 0>\u001b[0;34m()\u001b[0m\n\u001b[0;32m----> 1\u001b[0;31m \u001b[0;32mfrom\u001b[0m \u001b[0mmemory_profiler\u001b[0m \u001b[0;32mimport\u001b[0m \u001b[0mprofile\u001b[0m\u001b[0;34m\u001b[0m\u001b[0;34m\u001b[0m\u001b[0m\n\u001b[0m\u001b[1;32m      2\u001b[0m \u001b[0;34m\u001b[0m\u001b[0m\n\u001b[1;32m      3\u001b[0m \u001b[0;34m@\u001b[0m\u001b[0mprofile\u001b[0m\u001b[0;34m\u001b[0m\u001b[0;34m\u001b[0m\u001b[0m\n\u001b[1;32m      4\u001b[0m \u001b[0;32mdef\u001b[0m \u001b[0mmy_function\u001b[0m\u001b[0;34m(\u001b[0m\u001b[0;34m)\u001b[0m\u001b[0;34m:\u001b[0m\u001b[0;34m\u001b[0m\u001b[0;34m\u001b[0m\u001b[0m\n\u001b[1;32m      5\u001b[0m     \u001b[0;31m# Create a large list to demonstrate memory usage\u001b[0m\u001b[0;34m\u001b[0m\u001b[0;34m\u001b[0m\u001b[0m\n",
            "\u001b[0;31mModuleNotFoundError\u001b[0m: No module named 'memory_profiler'",
            "",
            "\u001b[0;31m---------------------------------------------------------------------------\u001b[0;32m\nNOTE: If your import is failing due to a missing package, you can\nmanually install dependencies using either !pip or !apt.\n\nTo view examples of installing some common dependencies, click the\n\"Open Examples\" button below.\n\u001b[0;31m---------------------------------------------------------------------------\u001b[0m\n"
          ],
          "errorDetails": {
            "actions": [
              {
                "action": "open_url",
                "actionText": "Open Examples",
                "url": "/notebooks/snippets/importing_libraries.ipynb"
              }
            ]
          }
        }
      ]
    },
    {
      "cell_type": "markdown",
      "source": [
        "17. Write a Python program to create and write a list of numbers to a file, one number per line?\n"
      ],
      "metadata": {
        "id": "OipQq08im6YH"
      }
    },
    {
      "cell_type": "code",
      "source": [
        "numbers = [1, 2, 3, 4, 5, 6, 7]\n",
        "\n",
        "with open('numbers.txt', 'w') as file:\n",
        "    for number in numbers:\n",
        "        file.write(str(number) + '\\n')\n",
        "\n",
        "print(\"Numbers written to file successfully.\")"
      ],
      "metadata": {
        "id": "F-B3AnI_smyA"
      },
      "execution_count": null,
      "outputs": []
    },
    {
      "cell_type": "markdown",
      "source": [
        "18. How would you implement a basic logging setup that logs to a file with rotation after 1MB?\n",
        "- You can use the RotatingFileHandler from the logging.handlers module.\n"
      ],
      "metadata": {
        "id": "gVcWn2Dxm6-G"
      }
    },
    {
      "cell_type": "code",
      "source": [
        "import logging\n",
        "from logging.handlers import RotatingFileHandler\n",
        "\n",
        "log_file = 'rotated_log.log'\n",
        "handler = RotatingFileHandler(log_file, maxBytes=1024 * 1024, backupCount=3)\n",
        "formatter = logging.Formatter('%(asctime)s - %(levelname)s - %(message)s')\n",
        "handler.setFormatter(formatter)\n",
        "\n",
        "logger = logging.getLogger('my_app')\n",
        "logger.setLevel(logging.INFO)\n",
        "logger.addHandler(handler)\n",
        "\n",
        "logger.info(\"This is a new log message.\")"
      ],
      "metadata": {
        "id": "fnynGJtlsniK"
      },
      "execution_count": null,
      "outputs": []
    },
    {
      "cell_type": "markdown",
      "source": [
        "19. Write a program that handles both IndexError and KeyError using a try-except block?\n"
      ],
      "metadata": {
        "id": "1rQZlokmm7qH"
      }
    },
    {
      "cell_type": "code",
      "source": [
        "my_list = [1, 2, 3]\n",
        "my_dict = {'a': 1}\n",
        "\n",
        "try:\n",
        "    value = my_dict['b']\n",
        "\n",
        "    print(value)\n",
        "except (IndexError, KeyError) as e:\n",
        "    print(f\"An error occurred: {e}\")"
      ],
      "metadata": {
        "id": "HVpvPRgnsomn"
      },
      "execution_count": null,
      "outputs": []
    },
    {
      "cell_type": "markdown",
      "source": [
        "20. How would you open a file and read its contents using a context manager in Python?\n"
      ],
      "metadata": {
        "id": "gM9tbvTYm8qK"
      }
    },
    {
      "cell_type": "code",
      "source": [
        "with open('my_file.txt', 'r') as file:\n",
        "    content = file.read()\n",
        "    print(content)"
      ],
      "metadata": {
        "id": "dhXX2PSMspBr"
      },
      "execution_count": null,
      "outputs": []
    },
    {
      "cell_type": "markdown",
      "source": [
        "21. Write a Python program that reads a file and prints the number of occurrences of a specific wordF"
      ],
      "metadata": {
        "id": "e21RcFuanVvL"
      }
    },
    {
      "cell_type": "code",
      "source": [
        "def count_word(filename, word):\n",
        "    count = 0\n",
        "    try:\n",
        "        with open(filename, 'r') as file:\n",
        "            content = file.read().lower()\n",
        "            count = content.split().count(word.lower())\n",
        "    except FileNotFoundError:\n",
        "        print(f\"Error: The file '{filename}' was not found.\")\n",
        "    return count\n",
        "\n",
        "word_to_find = \"test\"\n",
        "occurrences = count_word('my_file.txt', word_to_find)\n",
        "print(f\"The word '{word_to_find}' appears {occurrences} times.\")"
      ],
      "metadata": {
        "id": "v5oiQ_ZWspdA"
      },
      "execution_count": null,
      "outputs": []
    },
    {
      "cell_type": "markdown",
      "source": [
        "22. How can you check if a file is empty before attempting to read its contents?"
      ],
      "metadata": {
        "id": "mxKkd-EKnV9R"
      }
    },
    {
      "cell_type": "code",
      "source": [
        "import os\n",
        "\n",
        "filename = 'my_file.txt'\n",
        "if os.path.exists(filename) and os.path.getsize(filename) == 0:\n",
        "    print(f\"The file '{filename}' is empty.\")\n",
        "else:\n",
        "    print(f\"The file '{filename}' is not empty or does not exist.\")"
      ],
      "metadata": {
        "id": "XwigUyRtsqDu"
      },
      "execution_count": null,
      "outputs": []
    },
    {
      "cell_type": "markdown",
      "source": [
        "23. Write a Python program that writes to a log file when an error occurs during file handling?"
      ],
      "metadata": {
        "id": "nBtzmE2PnWgN"
      }
    },
    {
      "cell_type": "code",
      "source": [
        "import logging\n",
        "\n",
        "logging.basicConfig(filename='file_errors.log', level=logging.ERROR, format='%(asctime)s - %(levelname)s - %(message)s')\n",
        "\n",
        "try:\n",
        "    with open('non_existent_file.txt', 'r') as file:\n",
        "        content = file.read()\n",
        "except FileNotFoundError as e:\n",
        "    logging.error(f\"Failed to open the file: {e}\")\n",
        "    print(\"An error was logged to file_errors.log\")"
      ],
      "metadata": {
        "id": "Qa2Dyuwcsqtu"
      },
      "execution_count": null,
      "outputs": []
    }
  ]
}